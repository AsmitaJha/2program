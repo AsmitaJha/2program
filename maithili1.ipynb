{
  "nbformat": 4,
  "nbformat_minor": 0,
  "metadata": {
    "colab": {
      "provenance": [],
      "gpuType": "T4",
      "authorship_tag": "ABX9TyNnz972RbaYGBKJRbQiYlGJ",
      "include_colab_link": true
    },
    "kernelspec": {
      "name": "python3",
      "display_name": "Python 3"
    },
    "language_info": {
      "name": "python"
    },
    "accelerator": "GPU"
  },
  "cells": [
    {
      "cell_type": "markdown",
      "metadata": {
        "id": "view-in-github",
        "colab_type": "text"
      },
      "source": [
        "<a href=\"https://colab.research.google.com/github/AsmitaJha/2program/blob/main/maithili1.ipynb\" target=\"_parent\"><img src=\"https://colab.research.google.com/assets/colab-badge.svg\" alt=\"Open In Colab\"/></a>"
      ]
    },
    {
      "cell_type": "markdown",
      "source": [
        "This notebook helps in uploading any text file which may be written in any language, counting the number of bigrams, trigrams, and unigrams in it and also predicting the next word"
      ],
      "metadata": {
        "id": "Jz3B4Y4OU_1r"
      }
    },
    {
      "cell_type": "code",
      "source": [
        "from google.colab import files\n",
        "\n",
        "# Uploading the file manually, opening it, and displaying the first 1000 words\n",
        "uploaded = files.upload()\n",
        "\n",
        "# Read the text file\n",
        "with open(\"khattarkaka.txt\", \"r\", encoding=\"utf-8\") as file:\n",
        "    text = file.read()\n",
        "\n",
        "print(text[:1000])  # for printing the first 1000 characters in the text file"
      ],
      "metadata": {
        "colab": {
          "base_uri": "https://localhost:8080/",
          "height": 282
        },
        "id": "GrtrqUJGNZR_",
        "outputId": "df4d9d9c-2a15-427c-fc92-92c047eb0fb1"
      },
      "execution_count": null,
      "outputs": [
        {
          "output_type": "display_data",
          "data": {
            "text/plain": [
              "<IPython.core.display.HTML object>"
            ],
            "text/html": [
              "\n",
              "     <input type=\"file\" id=\"files-05a10954-13e1-42f6-b371-de00c26a7d6d\" name=\"files[]\" multiple disabled\n",
              "        style=\"border:none\" />\n",
              "     <output id=\"result-05a10954-13e1-42f6-b371-de00c26a7d6d\">\n",
              "      Upload widget is only available when the cell has been executed in the\n",
              "      current browser session. Please rerun this cell to enable.\n",
              "      </output>\n",
              "      <script>// Copyright 2017 Google LLC\n",
              "//\n",
              "// Licensed under the Apache License, Version 2.0 (the \"License\");\n",
              "// you may not use this file except in compliance with the License.\n",
              "// You may obtain a copy of the License at\n",
              "//\n",
              "//      http://www.apache.org/licenses/LICENSE-2.0\n",
              "//\n",
              "// Unless required by applicable law or agreed to in writing, software\n",
              "// distributed under the License is distributed on an \"AS IS\" BASIS,\n",
              "// WITHOUT WARRANTIES OR CONDITIONS OF ANY KIND, either express or implied.\n",
              "// See the License for the specific language governing permissions and\n",
              "// limitations under the License.\n",
              "\n",
              "/**\n",
              " * @fileoverview Helpers for google.colab Python module.\n",
              " */\n",
              "(function(scope) {\n",
              "function span(text, styleAttributes = {}) {\n",
              "  const element = document.createElement('span');\n",
              "  element.textContent = text;\n",
              "  for (const key of Object.keys(styleAttributes)) {\n",
              "    element.style[key] = styleAttributes[key];\n",
              "  }\n",
              "  return element;\n",
              "}\n",
              "\n",
              "// Max number of bytes which will be uploaded at a time.\n",
              "const MAX_PAYLOAD_SIZE = 100 * 1024;\n",
              "\n",
              "function _uploadFiles(inputId, outputId) {\n",
              "  const steps = uploadFilesStep(inputId, outputId);\n",
              "  const outputElement = document.getElementById(outputId);\n",
              "  // Cache steps on the outputElement to make it available for the next call\n",
              "  // to uploadFilesContinue from Python.\n",
              "  outputElement.steps = steps;\n",
              "\n",
              "  return _uploadFilesContinue(outputId);\n",
              "}\n",
              "\n",
              "// This is roughly an async generator (not supported in the browser yet),\n",
              "// where there are multiple asynchronous steps and the Python side is going\n",
              "// to poll for completion of each step.\n",
              "// This uses a Promise to block the python side on completion of each step,\n",
              "// then passes the result of the previous step as the input to the next step.\n",
              "function _uploadFilesContinue(outputId) {\n",
              "  const outputElement = document.getElementById(outputId);\n",
              "  const steps = outputElement.steps;\n",
              "\n",
              "  const next = steps.next(outputElement.lastPromiseValue);\n",
              "  return Promise.resolve(next.value.promise).then((value) => {\n",
              "    // Cache the last promise value to make it available to the next\n",
              "    // step of the generator.\n",
              "    outputElement.lastPromiseValue = value;\n",
              "    return next.value.response;\n",
              "  });\n",
              "}\n",
              "\n",
              "/**\n",
              " * Generator function which is called between each async step of the upload\n",
              " * process.\n",
              " * @param {string} inputId Element ID of the input file picker element.\n",
              " * @param {string} outputId Element ID of the output display.\n",
              " * @return {!Iterable<!Object>} Iterable of next steps.\n",
              " */\n",
              "function* uploadFilesStep(inputId, outputId) {\n",
              "  const inputElement = document.getElementById(inputId);\n",
              "  inputElement.disabled = false;\n",
              "\n",
              "  const outputElement = document.getElementById(outputId);\n",
              "  outputElement.innerHTML = '';\n",
              "\n",
              "  const pickedPromise = new Promise((resolve) => {\n",
              "    inputElement.addEventListener('change', (e) => {\n",
              "      resolve(e.target.files);\n",
              "    });\n",
              "  });\n",
              "\n",
              "  const cancel = document.createElement('button');\n",
              "  inputElement.parentElement.appendChild(cancel);\n",
              "  cancel.textContent = 'Cancel upload';\n",
              "  const cancelPromise = new Promise((resolve) => {\n",
              "    cancel.onclick = () => {\n",
              "      resolve(null);\n",
              "    };\n",
              "  });\n",
              "\n",
              "  // Wait for the user to pick the files.\n",
              "  const files = yield {\n",
              "    promise: Promise.race([pickedPromise, cancelPromise]),\n",
              "    response: {\n",
              "      action: 'starting',\n",
              "    }\n",
              "  };\n",
              "\n",
              "  cancel.remove();\n",
              "\n",
              "  // Disable the input element since further picks are not allowed.\n",
              "  inputElement.disabled = true;\n",
              "\n",
              "  if (!files) {\n",
              "    return {\n",
              "      response: {\n",
              "        action: 'complete',\n",
              "      }\n",
              "    };\n",
              "  }\n",
              "\n",
              "  for (const file of files) {\n",
              "    const li = document.createElement('li');\n",
              "    li.append(span(file.name, {fontWeight: 'bold'}));\n",
              "    li.append(span(\n",
              "        `(${file.type || 'n/a'}) - ${file.size} bytes, ` +\n",
              "        `last modified: ${\n",
              "            file.lastModifiedDate ? file.lastModifiedDate.toLocaleDateString() :\n",
              "                                    'n/a'} - `));\n",
              "    const percent = span('0% done');\n",
              "    li.appendChild(percent);\n",
              "\n",
              "    outputElement.appendChild(li);\n",
              "\n",
              "    const fileDataPromise = new Promise((resolve) => {\n",
              "      const reader = new FileReader();\n",
              "      reader.onload = (e) => {\n",
              "        resolve(e.target.result);\n",
              "      };\n",
              "      reader.readAsArrayBuffer(file);\n",
              "    });\n",
              "    // Wait for the data to be ready.\n",
              "    let fileData = yield {\n",
              "      promise: fileDataPromise,\n",
              "      response: {\n",
              "        action: 'continue',\n",
              "      }\n",
              "    };\n",
              "\n",
              "    // Use a chunked sending to avoid message size limits. See b/62115660.\n",
              "    let position = 0;\n",
              "    do {\n",
              "      const length = Math.min(fileData.byteLength - position, MAX_PAYLOAD_SIZE);\n",
              "      const chunk = new Uint8Array(fileData, position, length);\n",
              "      position += length;\n",
              "\n",
              "      const base64 = btoa(String.fromCharCode.apply(null, chunk));\n",
              "      yield {\n",
              "        response: {\n",
              "          action: 'append',\n",
              "          file: file.name,\n",
              "          data: base64,\n",
              "        },\n",
              "      };\n",
              "\n",
              "      let percentDone = fileData.byteLength === 0 ?\n",
              "          100 :\n",
              "          Math.round((position / fileData.byteLength) * 100);\n",
              "      percent.textContent = `${percentDone}% done`;\n",
              "\n",
              "    } while (position < fileData.byteLength);\n",
              "  }\n",
              "\n",
              "  // All done.\n",
              "  yield {\n",
              "    response: {\n",
              "      action: 'complete',\n",
              "    }\n",
              "  };\n",
              "}\n",
              "\n",
              "scope.google = scope.google || {};\n",
              "scope.google.colab = scope.google.colab || {};\n",
              "scope.google.colab._files = {\n",
              "  _uploadFiles,\n",
              "  _uploadFilesContinue,\n",
              "};\n",
              "})(self);\n",
              "</script> "
            ]
          },
          "metadata": {}
        },
        {
          "output_type": "stream",
          "name": "stdout",
          "text": [
            "Saving khattarkaka.txt to khattarkaka (1).txt\n",
            "पुरातन सभ्यता खट्टर ककाक तरंग\n",
            "लेखक : हरिमोहन झा\n",
            "ओहि दिन खट्टर कका सॅं पुरातन सभ्य्ता पर गप्प छिड़ि गेल ।\n",
            "\n",
            "हम कहलिऎन्ह – देखू, खट्टर कका, ताहि दिनक ऋषि-मुनि केहन त्यागपूर्ण जीवन व्यतीत करथि ! गुफा-कंदरा में रहि कंदमूल खा तपस्या करथि। ब्राह्म मुहूर्त्त में उठि, नदी में स्नान कय, बल्कल पहिरने, कंमडलु में जल भरने, कुटी में आबि, कुशासन पर बैसि देवता क ध्यान धरथि। केहन पवित्र सात्त्विक जीवन छलैन्ह ? औखन धरि दाढी ओ गेरुआ वस्त्र देखि कऽ लोक कैं श्रद्धा उत्पन्न भऽ जाइ छैक।\n",
            "\n",
            "खट्टर कका भाङक पत्ती धोइत बजलाह- हौ, जंगल में हजाम नहिं भेटैन्ह, तैं दाढी। धोबी नहिं भेटैन्ह, तैं कषाय रंग। तेल क अभाव में जटा। वस्त्रक अभाव में बल्कल। अन्नक अभाव में कंद-मूल। तकरो अभाव में एकभुक्त वा उपवास। लोटाक अभाव में कमंडलु सॅं पानि पीबथि। थारीक अभाव में पात पर खाथि। अथवा हाथे पर भोजन कय करपात्री बनि जाथि। ई सभ त्याग क सूचक नहिं अभाव क सूचक थीक। अप्राप्तिस्तत्र कारणम्।\n",
            "\n",
            "हम-परन्तु ॱ ॱ ॱ ॱ ॱ\n",
            "\n",
            "ख०-परन्तु की? यदि हुनका लोकनि कैं पकमान भेटितैन्ह त पकोहा किएक जोहितथि ? गुलाबजामुन भेटितैन्ह त गुल्लरि किऎक तोड़ितथि? बर्फी भेटितैन\n"
          ]
        }
      ]
    },
    {
      "cell_type": "code",
      "source": [
        "\n",
        "import re\n",
        "\n",
        "def preprocess_text(text):\n",
        "    \"\"\"Cleans and tokenizes Maithili text.\"\"\"\n",
        "    text = text.lower()  # Convert to lowercase\n",
        "    text = re.sub(r'[०-९]', '', text)  # Remove Devanagari numbers\n",
        "    text = re.sub(r'[^\\u0900-\\u097F\\s]', '', text)  # Keep only Devanagari characters\n",
        "    return text.split()  # Tokenize words\n",
        "\n",
        "cleaned_text = preprocess_text(text)\n",
        "print(cleaned_text[:20])  # Print first 20 words"
      ],
      "metadata": {
        "colab": {
          "base_uri": "https://localhost:8080/"
        },
        "id": "dDLML699N0C-",
        "outputId": "b10739c1-8225-4bb6-ec2d-bf20ca7121bc"
      },
      "execution_count": null,
      "outputs": [
        {
          "output_type": "stream",
          "name": "stdout",
          "text": [
            "['पुरातन', 'सभ्यता', 'खट्टर', 'ककाक', 'तरंग', 'लेखक', 'हरिमोहन', 'झा', 'ओहि', 'दिन', 'खट्टर', 'कका', 'सॅं', 'पुरातन', 'सभ्य्ता', 'पर', 'गप्प', 'छिड़ि', 'गेल', '।']\n"
          ]
        }
      ]
    },
    {
      "cell_type": "code",
      "source": [
        "from collections import defaultdict, Counter\n",
        "\n",
        "class NGramModel: #n gram model with functions for building frequency table, counting the number of unigrams, bigrams, and trigrams, and predicting the next word\n",
        "    def __init__(self, text, n=3):\n",
        "        self.n = n\n",
        "        self.text = preprocess_text(text)\n",
        "        self.unigrams = []\n",
        "        self.bigrams = defaultdict(Counter)\n",
        "        self.trigrams = defaultdict(Counter)\n",
        "        self.build_model()\n",
        "\n",
        "    def build_model(self): #for building the frequency table for unigram, bigram, and trigram\n",
        "        for i in range(len(self.text)):\n",
        "            unigram = self.text[i]\n",
        "            self.unigrams.append(unigram)\n",
        "\n",
        "            if i < len(self.text) - 1:\n",
        "                bigram = (self.text[i], self.text[i + 1])\n",
        "                self.bigrams[bigram[0]][bigram[1]] += 1\n",
        "\n",
        "            if i < len(self.text) - 2:\n",
        "                trigram = (self.text[i], self.text[i + 1], self.text[i + 2])\n",
        "                self.trigrams[(trigram[0], trigram[1])][trigram[2]] += 1\n",
        "\n",
        "    def predict_next_word(self, words): #for predicting the next word based on the given word\n",
        "        words = words.lower().split()\n",
        "\n",
        "        if len(words) >= 2 and (words[-2], words[-1]) in self.trigrams:\n",
        "            candidates = self.trigrams[(words[-2], words[-1])]\n",
        "        elif words[-1] in self.bigrams:\n",
        "            candidates = self.bigrams[words[-1]]\n",
        "        else:\n",
        "            candidates = Counter(self.unigrams)  # Use unigrams if no context\n",
        "\n",
        "        if candidates:\n",
        "            return max(candidates, key=candidates.get)  # Most frequent word\n",
        "        return None  # No prediction available\n",
        "\n",
        "    def count_unigrams(self): #for counting the number of unigrams in the text file\n",
        "        return len(set(self.unigrams))\n",
        "\n",
        "    def count_bigrams(self): #for counting the number of bigrams in the text file\n",
        "        return sum(len(value) for value in self.bigrams.values())\n",
        "\n",
        "    def count_trigrams(self): #for counting the number of trigrams in the text file\n",
        "        return sum(len(value) for value in self.trigrams.values())\n"
      ],
      "metadata": {
        "id": "YsuV5Dg_N4Pi"
      },
      "execution_count": null,
      "outputs": []
    },
    {
      "cell_type": "code",
      "source": [
        "ngram_model = NGramModel(text)\n",
        "\n",
        "print(f\"Count of Unique Unigrams: {ngram_model.count_unigrams()}\")\n",
        "print(f\"Count of Unique Bigrams: {ngram_model.count_bigrams()}\")\n",
        "print(f\"Count of Unique Trigrams: {ngram_model.count_trigrams()}\")"
      ],
      "metadata": {
        "colab": {
          "base_uri": "https://localhost:8080/"
        },
        "id": "x4BwbpHhSgPN",
        "outputId": "3bb302aa-ddf5-4f3b-9846-7fdad0ae4676"
      },
      "execution_count": null,
      "outputs": [
        {
          "output_type": "stream",
          "name": "stdout",
          "text": [
            "Number of Unique Unigrams: 1197\n",
            "Number of Unique Bigrams: 2243\n",
            "Number of Unique Trigrams: 2505\n"
          ]
        }
      ]
    },
    {
      "cell_type": "markdown",
      "source": [
        "hence, there are 1197 unigrams, 2243 bigrams, and 2505 trigrams in the .txt file"
      ],
      "metadata": {
        "id": "TtbgnheuTuvs"
      }
    },
    {
      "cell_type": "markdown",
      "source": [
        "#checking the working of next word prediction for the text:\n",
        "नीतिक वचन छैक जे, ‘काल्हि करै सो आज कर, आज करै सो अब'। in the pdf"
      ],
      "metadata": {
        "id": "wv6rPMryTQlw"
      }
    },
    {
      "cell_type": "code",
      "source": [
        "input_text = \"नीतिक\"  #unigram\n",
        "predicted_word = ngram_model.predict_next_word(input_text)\n",
        "\n",
        "print(f\"Predicted next word: {predicted_word}\")"
      ],
      "metadata": {
        "colab": {
          "base_uri": "https://localhost:8080/"
        },
        "id": "uA-0J7vSSoU7",
        "outputId": "aa178b72-d9a2-493b-a16e-25d381be0ddb"
      },
      "execution_count": null,
      "outputs": [
        {
          "output_type": "stream",
          "name": "stdout",
          "text": [
            "Predicted next word: वचन\n"
          ]
        }
      ]
    },
    {
      "cell_type": "code",
      "source": [
        "input_text = \"नीतिक वचन\" #bigram\n",
        "predicted_word = ngram_model.predict_next_word(input_text)\n",
        "\n",
        "print(f\"Predicted next word: {predicted_word}\")"
      ],
      "metadata": {
        "colab": {
          "base_uri": "https://localhost:8080/"
        },
        "id": "zvsuvEmRS1rt",
        "outputId": "75a4bb38-841f-4314-a3ac-736af81b5e40"
      },
      "execution_count": null,
      "outputs": [
        {
          "output_type": "stream",
          "name": "stdout",
          "text": [
            "Predicted next word: छैक\n"
          ]
        }
      ]
    },
    {
      "cell_type": "code",
      "source": [
        "input_text = \"नीतिक वचन छैक\" #trigram\n",
        "predicted_word = ngram_model.predict_next_word(input_text)\n",
        "\n",
        "print(f\"Predicted next word: {predicted_word}\")"
      ],
      "metadata": {
        "colab": {
          "base_uri": "https://localhost:8080/"
        },
        "id": "jWgU_KYpS8Tq",
        "outputId": "aed84fb0-ebde-489b-8532-a6f9a2ed73af"
      },
      "execution_count": null,
      "outputs": [
        {
          "output_type": "stream",
          "name": "stdout",
          "text": [
            "Predicted next word: जे\n"
          ]
        }
      ]
    },
    {
      "cell_type": "code",
      "source": [
        "input_text = \"नीतिक वचन छैक जे\"  #more than 3 words, quadrigram\n",
        "predicted_word = ngram_model.predict_next_word(input_text)\n",
        "\n",
        "print(f\"Predicted next word: {predicted_word}\")"
      ],
      "metadata": {
        "colab": {
          "base_uri": "https://localhost:8080/"
        },
        "id": "eQGvM5iBTAJM",
        "outputId": "10d2bd24-a442-4d14-997c-5542328b1162"
      },
      "execution_count": null,
      "outputs": [
        {
          "output_type": "stream",
          "name": "stdout",
          "text": [
            "Predicted next word: काल्हि\n"
          ]
        }
      ]
    },
    {
      "cell_type": "code",
      "source": [],
      "metadata": {
        "id": "h6xtaNyJTJHx"
      },
      "execution_count": null,
      "outputs": []
    }
  ]
}